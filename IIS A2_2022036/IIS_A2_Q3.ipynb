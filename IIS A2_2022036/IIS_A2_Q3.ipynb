{
  "nbformat": 4,
  "nbformat_minor": 0,
  "metadata": {
    "colab": {
      "provenance": []
    },
    "kernelspec": {
      "name": "python3",
      "display_name": "Python 3"
    },
    "language_info": {
      "name": "python"
    }
  },
  "cells": [
    {
      "cell_type": "code",
      "execution_count": null,
      "metadata": {
        "colab": {
          "base_uri": "https://localhost:8080/"
        },
        "id": "NnwH5PjoN89y",
        "outputId": "e3b41219-fd2b-4794-f339-c2d1998029f8"
      },
      "outputs": [
        {
          "output_type": "stream",
          "name": "stdout",
          "text": [
            "Enter the x-coordinate of the end-effector: 2.5\n",
            "Enter the y-coordinate of the end-effector: 1.8\n",
            "Enter the length of link 1: 3.0\n",
            "Enter the length of link 2: 2.5\n",
            "Joint angles:\n",
            "θ1 = -0.223006\n",
            "θ2 = 1.964921\n"
          ]
        }
      ],
      "source": [
        "import math\n",
        "\n",
        "def inverse_kinematics(x, y, L1, L2):\n",
        "    # Validate if the end-effector position is reachable\n",
        "    distance = math.sqrt(x**2 + y**2)\n",
        "    if distance > L1 + L2:\n",
        "        raise ValueError(\"The end-effector position is not reachable with the given link lengths.\")\n",
        "\n",
        "    #  Find θ2\n",
        "    cos_theta2 = (x**2 + y**2 - L1**2 - L2**2) / (2 * L1 * L2)\n",
        "    theta2 = math.acos(cos_theta2)\n",
        "\n",
        "    # Find θ1\n",
        "    theta1 = math.atan2(y, x) - math.atan2(L2 * math.sin(theta2), L1 + L2 * cos_theta2)\n",
        "\n",
        "    return theta1, theta2\n",
        "\n",
        "# Input from the user\n",
        "x = float(input(\"Enter the x-coordinate of the end-effector: \"))\n",
        "y = float(input(\"Enter the y-coordinate of the end-effector: \"))\n",
        "L1 = float(input(\"Enter the length of link 1: \"))\n",
        "L2 = float(input(\"Enter the length of link 2: \"))\n",
        "\n",
        "try:\n",
        "    theta1, theta2 = inverse_kinematics(x, y, L1, L2)\n",
        "    print(\"Joint angles:\")\n",
        "    print(\"θ1 =\", round(theta1, 6))\n",
        "    print(\"θ2 =\", round(theta2, 6))\n",
        "except ValueError as e:\n",
        "    print(\"Error:\", str(e))\n"
      ]
    }
  ]
}